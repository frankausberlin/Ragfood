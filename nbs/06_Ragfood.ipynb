{
 "cells": [
  {
   "cell_type": "markdown",
   "metadata": {},
   "source": [
    "# Ragfood\n",
    "\n",
    "> Main application class for Ragfood - Making knowledge from documents accessible for chats with LLMs"
   ]
  },
  {
   "cell_type": "code",
   "execution_count": null,
   "metadata": {},
   "outputs": [],
   "source": [
    "#| default_exp ragfood"
   ]
  },
  {
   "cell_type": "code",
   "execution_count": null,
   "metadata": {},
   "outputs": [],
   "source": [
    "#| hide\n",
    "from nbdev.showdoc import *"
   ]
  },
  {
   "cell_type": "code",
   "execution_count": null,
   "metadata": {},
   "outputs": [],
   "source": [
    "#| export\n",
    "from ipywidgets import VBox, HTML, Accordion, Button, HBox, Box\n",
    "from Ragfood.mediator import Mediator\n",
    "from Ragfood.calibre import Calibre\n",
    "from Ragfood.booklist import Booklist\n",
    "from Ragfood.pdfview import PDFView"
   ]
  },
  {
   "cell_type": "code",
   "execution_count": null,
   "metadata": {},
   "outputs": [],
   "source": [
    "#| export\n",
    "class Ragfood(Mediator):\n",
    "    \"\"\"Main application class for Ragfood.\n",
    "    \n",
    "    Making knowledge from documents accessible for chats with LLMs.\n",
    "    Uses Calibre, ipywidgets, PyPDF2.\n",
    "    \"\"\"\n",
    "    \n",
    "    export_pdf_to_folder = '~/labor/ragfood_pdf'\n",
    "    calibre_library_folder = '~/labor/test_calibre_with_4_pdfs'\n",
    "    create_sample_library_with_4_books_if_library_folder_not_exists = True\n",
    "    \n",
    "    def __init__(self):\n",
    "        \"\"\"Initialize Ragfood application.\"\"\"\n",
    "        # the colleagues\n",
    "        Calibre.create_sample_library_with_4_books_if_library_folder_not_exists = Ragfood.create_sample_library_with_4_books_if_library_folder_not_exists\n",
    "        self.calibre = Calibre(mediator=self, title='Calibre',\n",
    "                              library_folder=Ragfood.calibre_library_folder,\n",
    "                              export_folder=Ragfood.export_pdf_to_folder)\n",
    "        self.booklist = Booklist(books=self.calibre.book_list, mediator=self, heightListArea=620, behave='radio')\n",
    "        self.pdfView = PDFView(mediator=self)\n",
    "        \n",
    "        # widgets\n",
    "        title_html = f\"\"\"<div style=\"background-color: #f0f8ff; padding: 10px; \"><h1 style=\"color: #005F6A; margin: 0;\">🍲 Ragfood</h1></div>\"\"\"\n",
    "        self.titleLine_hm = HTML(title_html)\n",
    "        self.selectPDF_hb = HBox(children=[self.booklist.widget,\n",
    "                                          VBox(children=[self.calibre.widget, self.pdfView.widget],\n",
    "                                               layout={'width': '100%'})])\n",
    "        self.processing_bx = Box()\n",
    "        self.vectoreStore_bx = Box()\n",
    "        self.chat_bx = Box()\n",
    "        self.main_ac = Accordion(children=[self.selectPDF_hb, self.processing_bx, self.vectoreStore_bx, self.chat_bx])\n",
    "        self.main_ac.set_title(0, '📚 Select PDF - from Calibre')\n",
    "        self.main_ac.set_title(1, '⚗️ Processing PDF - Loader, Chunking, Embedding')\n",
    "        self.main_ac.set_title(2, '🕋 Vectore Store - Chunks')\n",
    "        self.main_ac.set_title(3, '🔎 Chat - using LLM to access knowledge')\n",
    "        self.widget = VBox(children=[self.titleLine_hm, self.main_ac])\n",
    "    \n",
    "    def notify(self, colleague, event, state, *argc, **argv):\n",
    "        \"\"\"Handle notifications from colleagues.\"\"\"\n",
    "        if event == 'OnBooklistBookSelected':\n",
    "            file = self.calibre.getPathByID(argv['calibre_id'])\n",
    "            self.calibre.export([argv['calibre_id']])\n",
    "            print('setPDF', file)\n",
    "            self.pdfView.setPDF(file)\n",
    "        # print(event, state, argc, argv)"
   ]
  },
  {
   "cell_type": "markdown",
   "metadata": {},
   "source": [
    "## Example Usage"
   ]
  },
  {
   "cell_type": "code",
   "execution_count": null,
   "metadata": {},
   "outputs": [],
   "source": [
    "# Example usage (requires Calibre and dependencies)\n",
    "# rf = Ragfood()\n",
    "# display(rf.widget)"
   ]
  }
 ],
 "metadata": {
  "kernelspec": {
   "display_name": "python3",
   "language": "python",
   "name": "python3"
  }
 },
 "nbformat": 4,
 "nbformat_minor": 4
}
