{
 "cells": [
  {
   "cell_type": "markdown",
   "metadata": {},
   "source": [
    "# Booklist\n",
    "\n",
    "> Selectable list of Calibre books for Ragfood"
   ]
  },
  {
   "cell_type": "code",
   "execution_count": null,
   "metadata": {},
   "outputs": [],
   "source": [
    "#| default_exp booklist"
   ]
  },
  {
   "cell_type": "code",
   "execution_count": null,
   "metadata": {},
   "outputs": [],
   "source": [
    "#| hide\n",
    "from nbdev.showdoc import *"
   ]
  },
  {
   "cell_type": "code",
   "execution_count": null,
   "metadata": {},
   "outputs": [],
   "source": [
    "#| export\n",
    "import json, os, subprocess\n",
    "from ipywidgets import Button, Box, HBox, VBox, Dropdown, Accordion, Label\n",
    "from Ragfood.Selectable import Selectable\n",
    "from Ragfood.mediator import Colleague\n",
    "from Ragfood.states import *"
   ]
  },
  {
   "cell_type": "code",
   "execution_count": null,
   "metadata": {},
   "outputs": [],
   "source": [
    "#| export\n",
    "class BooklistItem(Selectable):\n",
    "    \"\"\"Individual book item in the booklist.\"\"\"\n",
    "    \n",
    "    def setInitState(self):\n",
    "        \"\"\"Set title and embedding-icon\"\"\"\n",
    "        self.item = Label()\n",
    "        self.refresh()\n",
    "        self.setItemWidget(self.item)\n",
    "    \n",
    "    def refresh(self):\n",
    "        \"\"\"Refresh the display with current book info.\"\"\"\n",
    "        icon = '📜' if '*embedding' in self.book else ''\n",
    "        self.item.value = f\"{icon}{self.book['title']}\"\n",
    "    \n",
    "    def __init__(self, book, books, selector=None, behave='radio'):\n",
    "        \"\"\"Initialize the BooklistItem with given parameters.\"\"\"\n",
    "        # attributes\n",
    "        self.book = book\n",
    "        \n",
    "        # states\n",
    "        super().__init__(books, behave, selector)"
   ]
  },
  {
   "cell_type": "code",
   "execution_count": null,
   "metadata": {},
   "outputs": [],
   "source": [
    "#| export\n",
    "class Booklist(Colleague):\n",
    "    \"\"\"Provides a selectable list of calibre books from the given library.\"\"\"\n",
    "    \n",
    "    def __init__(self, books, heightListArea=600, layout={'width': '300px', 'border': '1px solid', 'height': '100%'}, mediator=None, behave='multi'):\n",
    "        \"\"\"Initialize the Booklist widget.\"\"\"\n",
    "        # attributes and super constructor\n",
    "        self.books, self.selections, self.heightListArea, self.widget = books, [], heightListArea, VBox(layout=layout)\n",
    "        super().__init__(mediator)\n",
    "        \n",
    "        # widgets\n",
    "        self.list_inner_vb = VBox(layout={'height': f'{self.heightListArea}px', 'width': '100%', 'overflow': 'auto'})\n",
    "        self.list_outer_bx = Box(children=[self.list_inner_vb], layout={'width': '100%', 'overflow': 'auto'})\n",
    "        self.widget.children = [self.list_outer_bx]\n",
    "        \n",
    "        # create items for ids\n",
    "        self.booklistWidgets = []\n",
    "        self.booklistItems = [BooklistItem(book=book,\n",
    "                                          books=self.booklistWidgets,\n",
    "                                          selector=self.selector,\n",
    "                                          behave=behave) for book in self.books]\n",
    "        self.list_inner_vb.children = [booklistItem.widget for booklistItem in self.booklistItems]\n",
    "    \n",
    "    def selector(self, selections, lastSelect):\n",
    "        \"\"\"Handle book selection events.\"\"\"\n",
    "        self.selections, self.lastSelect = selections, lastSelect\n",
    "        self.changed('OnBooklistBookSelected',\n",
    "                    RAGFOOD_OK,\n",
    "                    positon_list=selections,\n",
    "                    last_select=lastSelect,\n",
    "                    calibre_id=self.books[lastSelect]['id'])\n",
    "    \n",
    "    def getSelectedBooks(self):\n",
    "        \"\"\"Get list of selected book IDs.\"\"\"\n",
    "        return [self.booklistItems[s].book['id'] for s in self.selections]"
   ]
  },
  {
   "cell_type": "markdown",
   "metadata": {},
   "source": [
    "## Example Usage"
   ]
  },
  {
   "cell_type": "code",
   "execution_count": null,
   "metadata": {},
   "outputs": [],
   "source": [
    "# Example usage (requires Calibre setup)\n",
    "# from Ragfood.calibre import Calibre\n",
    "# from Ragfood.mediator import Mediator\n",
    "# \n",
    "# class MiniMedi(Mediator):\n",
    "#     def notify(self, colleague, event, state, *argc, **argv):\n",
    "#         print(event, state, argc, argv)\n",
    "# \n",
    "# calibre = Calibre()\n",
    "# booklist = Booklist(books=calibre.book_list, mediator=MiniMedi(), heightListArea=200)\n",
    "# display(booklist.widget)"
   ]
  }
 ],
 "metadata": {
  "kernelspec": {
   "display_name": "python3",
   "language": "python",
   "name": "python3"
  }
 },
 "nbformat": 4,
 "nbformat_minor": 4
}
