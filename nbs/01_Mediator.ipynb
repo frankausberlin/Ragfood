{
 "cells": [
  {
   "cell_type": "markdown",
   "metadata": {},
   "source": [
    "# Mediator\n",
    "\n",
    "> The Mediator Pattern implementation for Ragfood"
   ]
  },
  {
   "cell_type": "code",
   "execution_count": null,
   "metadata": {},
   "outputs": [],
   "source": [
    "#| default_exp mediator"
   ]
  },
  {
   "cell_type": "code",
   "execution_count": null,
   "metadata": {},
   "outputs": [],
   "source": [
    "#| hide\n",
    "from nbdev.showdoc import *"
   ]
  },
  {
   "cell_type": "code",
   "execution_count": null,
   "metadata": {},
   "outputs": [],
   "source": [
    "#| export\n",
    "class Colleague:\n",
    "    \"\"\"Base class for colleagues in the mediator pattern.\"\"\"\n",
    "    \n",
    "    def __init__(self, mediator):\n",
    "        self.mediator = mediator\n",
    "    \n",
    "    def changed(self, event, state, *argc, **argv):\n",
    "        \"\"\"Notify the mediator of a change.\"\"\"\n",
    "        if self.mediator:\n",
    "            self.mediator.notify(self, event, state, *argc, **argv)\n",
    "        else:\n",
    "            print('<<no mediator>>', event, state, argc, argv)"
   ]
  },
  {
   "cell_type": "code",
   "execution_count": null,
   "metadata": {},
   "outputs": [],
   "source": [
    "#| export\n",
    "class Mediator:\n",
    "    \"\"\"Base mediator class that coordinates communication between colleagues.\"\"\"\n",
    "    \n",
    "    def notify(self, colleague, event, state, *argc, **argv):\n",
    "        \"\"\"Handle notifications from colleagues.\"\"\"\n",
    "        raise NotImplementedError"
   ]
  },
  {
   "cell_type": "markdown",
   "metadata": {},
   "source": [
    "## Example Usage"
   ]
  },
  {
   "cell_type": "code",
   "execution_count": null,
   "metadata": {},
   "outputs": [],
   "source": [
    "class ConcreteColleague(Colleague):\n",
    "    def __init__(self, mediator):\n",
    "        super().__init__(mediator)\n",
    "        self.changed('OnColleagueCreate', 0, 'firstPositional', second='with_keywords')\n",
    "    \n",
    "    def work(self, *argc, **argv):\n",
    "        self.changed('OnColleagueWork', 1, *argc, **argv)\n",
    "\n",
    "class ConcreteMediator(Mediator):\n",
    "    def __init__(self):\n",
    "        self.colleagueA = ConcreteColleague(self)\n",
    "        self.colleagueB = ConcreteColleague(self)\n",
    "    \n",
    "    def working(self, *argc, **argv):\n",
    "        self.colleagueA.work('A')\n",
    "        self.colleagueB.work(work='second')\n",
    "    \n",
    "    def notify(self, colleague, event, state, *argc, **argv):\n",
    "        print(event, state, argc, argv)\n",
    "\n",
    "cm = ConcreteMediator()\n",
    "cm.working()"
   ]
  }
 ],
 "metadata": {
  "kernelspec": {
   "display_name": "python3",
   "language": "python",
   "name": "python3"
  }
 },
 "nbformat": 4,
 "nbformat_minor": 4
}
