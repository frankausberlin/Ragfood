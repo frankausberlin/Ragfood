{
 "cells": [
  {
   "cell_type": "markdown",
   "metadata": {},
   "source": [
    "# Description\n",
    "\n",
    "<font size='+2' color='#005F6A'>**Selectable**</font><br>\n",
    "* Provides a mechanism for selecting items with either **radio**, **multi-select** or **radiox** (unselecteble radio) behavior.\n",
    "* Uses **Buttons** to represent selectable items.\n",
    "* Allows for **custom behavior** on first selection and subsequent selections.\n",
    "\n",
    "```python\n",
    "class MySelectable (Selectable):\n",
    "  def setInitState (self):                           self.setItemWidget (Label (value=\"initial state\"))\n",
    "  def onItemSelect (self, posList, lastSelection):   print ('Your selection:',posList, 'Last selection:',lastSelection)\n",
    "  def __init__(self, items, behave='radio'):\n",
    "    super().__init__(item, items, behave=behave, selector=self.onItemSelect)\n",
    "#\n",
    "lst = []\n",
    "display (HBox (children = [MySelectable(lst, behave='multi').widget,\n",
    "                           MySelectable(lst, behave='multi').widget]) )\n",
    "```\n"
   ]
  },
  {
   "cell_type": "markdown",
   "metadata": {},
   "source": [
    "# Class"
   ]
  },
  {
   "cell_type": "code",
   "execution_count": null,
   "metadata": {},
   "outputs": [],
   "source": [
    "#| default_exp Selectable"
   ]
  },
  {
   "cell_type": "code",
   "execution_count": null,
   "metadata": {},
   "outputs": [],
   "source": [
    "#| hide\n",
    "#@markdown <font size='+2' color='#005F6A'>**Selectable**</font><br>\n",
    "#@markdown * Provides a mechanism for selecting items with either **radio**, **multi-select** or **radiox** (unselecteble radio) behavior.\n",
    "#@markdown * Uses **Buttons** to represent selectable items.\n",
    "#@markdown * Allows for **custom behavior** on first selection and subsequent selections.\n",
    "#@markdown <table><tr><td><font size='+2'>\n",
    "#@markdown\n",
    "#@markdown ```python\n",
    "#@markdown class MySelectable (Selectable):\n",
    "#@markdown   def setInitState (self):                           self.setItemWidget (Label (value=\"initial state\"))\n",
    "#@markdown   def onItemSelect (self, posList, lastSelection):   print ('Your selection:',posList, 'Last selection:',lastSelection)\n",
    "#@markdown   def __init__(self, items, behave='radio'):\n",
    "#@markdown     super().__init__(item, items, behave=behave, selector=self.onItemSelect)\n",
    "#@markdown #\n",
    "#@markdown lst = []\n",
    "#@markdown display (HBox (children = [MySelectable(lst, behave='multi').widget,\n",
    "#@markdown                            MySelectable(lst, behave='multi').widget]) )\n",
    "#@markdown ```\n",
    "#@markdown </td></tr></table>\n"
   ]
  },
  {
   "cell_type": "code",
   "execution_count": null,
   "metadata": {},
   "outputs": [],
   "source": [
    "#| export\n",
    "\"\"\" Colab Code-Snippets\n",
    "It uses colab forms to make a top-level setting of the code snippet (optional)\n",
    "and give a little description. You can run the cell to execute the code snippet.\n",
    "\"\"\"\n",
    "from ipywidgets import Button, HTML, HBox, VBox, Label, Output\n",
    "from IPython.display import display\n",
    "\n",
    "class Selectable:\n",
    "  \"\"\"A class representing a selectable item with customizable behavior.\n",
    "  This code snippet demonstrates the use of a custom selectable widget class\n",
    "  in a Jupyter notebook. It allows for the selection of items using either\n",
    "  radio button behavior or multi-select behavior.\n",
    "\n",
    "  Attributes\n",
    "  ----------\n",
    "  * items: list\n",
    "    A list with Selectable objects.\n",
    "  * behave: str\n",
    "    The behavior type ('multi' or 'radio' or 'radiox') for selection.\n",
    "  * onSelect: function | default: None\n",
    "    A callback function triggered upon selection.\n",
    "  * widget: HBox\n",
    "    The widget representing the selectable item.\n",
    "\n",
    "  Methods\n",
    "  -------\n",
    "  * doBehavior() | -> none\n",
    "    Executes the selection behavior based on the specified type.\n",
    "  * _onSelectorClick(b: Button) | -> none\n",
    "    Handles the click event for the selector button.\n",
    "  * setItemWidget(widget) | -> none\n",
    "    Sets the widget to display for the item.\n",
    "  * setInitState() | -> none\n",
    "    Initializes the state of the item (to be implemented in subclasses).\n",
    "  * onFirstSelect(posList) | -> none\n",
    "    Defines behavior on the first selection (to be implemented in subclasses).\n",
    "\n",
    "  Behavior\n",
    "  -------\n",
    "  * You can set the behavior to 'radio' or 'multi' (radio button or multi selection).\n",
    "  * On creation it calls the setInitState abstract function where you can build your\n",
    "    own widget (e.g. HTML-object) and register it with setItemWidget.\n",
    "  * When you select an item the abstract function onFirstSelect is called so you can\n",
    "    set your widget in a 'working' state.\n",
    "  * Every selection triggers the callback function onSelect if set.\n",
    "\n",
    "  Use cases\n",
    "  ---------\n",
    "  * Make your own class, inherit from Selectable and implement the onFirstSelect\n",
    "    and setInitState function.\n",
    "  * To react on a select you can give a listener in the super constructor call.\n",
    "  * To combine several selectable objects to a set you have to give the same list\n",
    "    on construction.\n",
    "  * Display an item with the .widget attribute.\n",
    "\n",
    "  Example\n",
    "  -------\n",
    "  class MySelectable (Selectable):\n",
    "    def setInitState (self):            self.setItemWidget (Label (value=\"initial state\"))\n",
    "    def onFirstSelect (self, posList):  self.itemWidget.value = \"initialized \"+self.item\n",
    "    def onSelection (self, posList):    print ('Your selection:',posList)\n",
    "    def __init__(self, items, behave='radio'):\n",
    "      super().__init__(items, behave, self.onSelection)\n",
    "\n",
    "  # example: two sets of Selectable objects (two lines radio button / one line multi select)\n",
    "  a, b = [] , []\n",
    "  #\n",
    "  display (HBox (children = [MySelectable(a).widget, MySelectable(a).widget, MySelectable(a).widget] ))\n",
    "  display (HBox (children = [MySelectable(a).widget, MySelectable(a).widget, MySelectable(a).widget] ))\n",
    "  display (HTML(value='<hr>'))\n",
    "  #\n",
    "  display (HBox (children = [MySelectable(b, 'multi').widget, MySelectable(b, 'multi').widget,\n",
    "                             MySelectable(b, 'multi').widget, MySelectable(b, 'multi').widget,\n",
    "                             MySelectable(b, 'multi').widget, MySelectable(b, 'multi').widget] ))\n",
    "\n",
    "  \"\"\"\n",
    "  def __init__(self, items, behave, selector=None):\n",
    "    \"\"\"Initializes the class with given parameters.\n",
    "    set attributes, generate widgets, bind events and set initial state.\n",
    "    \"\"\"\n",
    "    self.isSelected, self.items, self.behave = False, items, behave\n",
    "    self.bu_selector = Button(style={'button_color': '#99bfc3'}, layout={'width': '22px', 'height': '22px'})\n",
    "    self.widget = HBox(children=[self.bu_selector], layout={'min_height': '24px', 'overflow': 'hidden'})\n",
    "    self.items.append(self)\n",
    "    self.bu_selector.on_click(self.select)\n",
    "    self.setInitState()\n",
    "    self.selector = selector\n",
    "\n",
    "\n",
    "  def doBehavior (self):\n",
    "    \"\"\"Executes the selection behavior based on the specified type.\n",
    "    \"\"\"\n",
    "    self.posList, lastSelect = [], self.lastSelect()\n",
    "\n",
    "    if self.behave == 'radiox':\n",
    "      state         = self.items[lastSelect].isSelected\n",
    "      for item in self.items: item.bu_selector.style.button_color, item.isSelected = '#99bfc3', False\n",
    "      if state:     self.items[lastSelect].bu_selector.style.button_color, self.items[lastSelect].isSelected = '#99bfc3', False\n",
    "      else:         self.items[lastSelect].bu_selector.style.button_color, self.items[lastSelect].isSelected = '#005F6A', True\n",
    "      self.posList  = [p for p in range (len(self.items)) if self.items[p].isSelected]\n",
    "\n",
    "    elif self.behave == 'radio':\n",
    "      for item in self.items: item.bu_selector.style.button_color, item.isSelected = '#99bfc3', False\n",
    "      self.bu_selector.style.button_color, self.isSelected, self.posList = '#005F6A', True, [lastSelect]\n",
    "\n",
    "    elif self.behave == 'multi':\n",
    "      state         = self.items[lastSelect].isSelected\n",
    "      if state:     self.items[lastSelect].bu_selector.style.button_color, self.items[lastSelect].isSelected = '#99bfc3', False\n",
    "      else:         self.items[lastSelect].bu_selector.style.button_color, self.items[lastSelect].isSelected = '#005F6A', True\n",
    "      self.posList  = [p for p in range (len(self.items)) if self.items[p].isSelected]\n",
    "\n",
    "    else: raise Exception('unknown behavior: '+self.behave)\n",
    "\n",
    "  def setItemWidget (self, widget):\n",
    "    \"\"\"Sets the widget to display for the item.\n",
    "    \"\"\"\n",
    "    self.itemWidget, self.widget.children = widget, (*self.widget.children, widget)\n",
    "\n",
    "  def setInitState (self): raise NotImplementedError\n",
    "  def onSelection (self, posList): raise NotImplementedError\n",
    "\n",
    "  def select (self, b=None):\n",
    "    \"\"\"Handles the click event for the selector button.\n",
    "    \"\"\"\n",
    "    lastSelect=-1\n",
    "    # search selected item\n",
    "    for buttonPos in range (len(self.items)):\n",
    "      if self.items[buttonPos].bu_selector == self.bu_selector: break\n",
    "    # when found\n",
    "    if buttonPos < len(self.items):\n",
    "      # set isLastSelect in all selectables\n",
    "      for buttonPos in range (len(self.items)): self.items[buttonPos].isLastSelect = False\n",
    "      self.isLastSelect = True\n",
    "    # do selectable specific behavior\n",
    "    self.doBehavior ()\n",
    "    # call selector\n",
    "    if self.selector:\n",
    "      self.selector (self.posList, self.lastSelect())\n",
    "\n",
    "  def lastSelect (self):\n",
    "    for buttonPos in range (len(self.items)):\n",
    "      if self.items[buttonPos].bu_selector == self.bu_selector: break\n",
    "    if buttonPos < len(self.items): return buttonPos\n",
    "    else: return -1\n",
    "\n"
   ]
  },
  {
   "cell_type": "code",
   "execution_count": null,
   "metadata": {},
   "outputs": [
    {
     "data": {
      "application/vnd.jupyter.widget-view+json": {
       "model_id": "c3b107b1a78445a3bcf72c32283f8098",
       "version_major": 2,
       "version_minor": 0
      },
      "text/plain": [
       "HTML(value='<font size=+1>behave: radio')"
      ]
     },
     "metadata": {},
     "output_type": "display_data"
    },
    {
     "data": {
      "application/vnd.jupyter.widget-view+json": {
       "model_id": "33fc2dc561ae46c5a56208016b34fa79",
       "version_major": 2,
       "version_minor": 0
      },
      "text/plain": [
       "HBox(children=(HBox(children=(Button(layout=Layout(height='22px', width='22px'), style=ButtonStyle(button_colo…"
      ]
     },
     "metadata": {},
     "output_type": "display_data"
    },
    {
     "data": {
      "application/vnd.jupyter.widget-view+json": {
       "model_id": "d744b352d9cb4236a407cce4e53154f8",
       "version_major": 2,
       "version_minor": 0
      },
      "text/plain": [
       "HTML(value='<hr><font size=+1>behave: multi')"
      ]
     },
     "metadata": {},
     "output_type": "display_data"
    },
    {
     "data": {
      "application/vnd.jupyter.widget-view+json": {
       "model_id": "dfb4cea381d8498f8b6060fcfabbaf9b",
       "version_major": 2,
       "version_minor": 0
      },
      "text/plain": [
       "HBox(children=(HBox(children=(Button(layout=Layout(height='22px', width='22px'), style=ButtonStyle(button_colo…"
      ]
     },
     "metadata": {},
     "output_type": "display_data"
    },
    {
     "data": {
      "application/vnd.jupyter.widget-view+json": {
       "model_id": "622563ce29454518b145508a90e11409",
       "version_major": 2,
       "version_minor": 0
      },
      "text/plain": [
       "HTML(value='<hr><font size=+1>behave: radiox')"
      ]
     },
     "metadata": {},
     "output_type": "display_data"
    },
    {
     "data": {
      "application/vnd.jupyter.widget-view+json": {
       "model_id": "b367cbcc4be146679624db113e3bb3d4",
       "version_major": 2,
       "version_minor": 0
      },
      "text/plain": [
       "HBox(children=(HBox(children=(Button(layout=Layout(height='22px', width='22px'), style=ButtonStyle(button_colo…"
      ]
     },
     "metadata": {},
     "output_type": "display_data"
    },
    {
     "data": {
      "application/vnd.jupyter.widget-view+json": {
       "model_id": "6e6363a04c484f0c8705692f7039c4e4",
       "version_major": 2,
       "version_minor": 0
      },
      "text/plain": [
       "Output()"
      ]
     },
     "metadata": {},
     "output_type": "display_data"
    }
   ],
   "source": [
    "#| hide\n",
    "# ___________________________________________________________\n",
    "#|______________________hello_component______________________|\n",
    "output = Output ()\n",
    "class MySelectable (Selectable):\n",
    "  def setInitState (self): self.setItemWidget (Label (value=\"initial state\"))\n",
    "  def onItemSelect (self, posList, lastSelect=None): \n",
    "    output.clear_output()\n",
    "    with output: print ('Your selection:',posList,'- lastSelection',lastSelect, end='')\n",
    "  def __init__(self, items, behave='radio'):\n",
    "    super().__init__(items, behave, self.onItemSelect)\n",
    "\n",
    "# example: two sets of Selectable objects (two lines radio button / one line multi select)\n",
    "a, b, c = [] , [], []\n",
    "#\n",
    "display (HTML(value='<font size=+1>behave: radio'))\n",
    "display (HBox (children = [MySelectable(a).widget, MySelectable(a).widget, MySelectable(a).widget,\n",
    "                           MySelectable(a).widget, MySelectable(a).widget, MySelectable(a).widget] ))\n",
    "#\n",
    "display (HTML(value='<hr><font size=+1>behave: multi'))\n",
    "display (HBox (children = [MySelectable(b, 'multi').widget, MySelectable(b, 'multi').widget,\n",
    "                           MySelectable(b, 'multi').widget, MySelectable(b, 'multi').widget,\n",
    "                           MySelectable(b, 'multi').widget, MySelectable(b, 'multi').widget] ))\n",
    "\n",
    "#\n",
    "display (HTML(value='<hr><font size=+1>behave: radiox'))\n",
    "display (HBox (children = [MySelectable(c, 'radiox').widget, MySelectable(c, 'radiox').widget,\n",
    "                           MySelectable(c, 'radiox').widget, MySelectable(c, 'radiox').widget,\n",
    "                           MySelectable(c, 'radiox').widget, MySelectable(c, 'radiox').widget] ))\n",
    "display (output)"
   ]
  },
  {
   "cell_type": "markdown",
   "metadata": {},
   "source": [
    "# Test"
   ]
  },
  {
   "cell_type": "code",
   "execution_count": null,
   "metadata": {},
   "outputs": [
    {
     "name": "stderr",
     "output_type": "stream",
     "text": [
      "test_Selectable_behave_multi (__main__.Test_Selectable.test_Selectable_behave_multi) ... /home/frank/miniforge3/envs/ds11/lib/python3.11/site-packages/ipywidgets/widgets/widget.py:503: DeprecationWarning: The `ipykernel.comm.Comm` class has been deprecated. Please use the `comm` module instead.For creating comms, use the function `from comm import create_comm`.\n",
      "  self.comm = Comm(**args)\n",
      "ok\n",
      "test_Selectable_behave_radio (__main__.Test_Selectable.test_Selectable_behave_radio) ... ok\n",
      "test_Selectable_behave_radiox (__main__.Test_Selectable.test_Selectable_behave_radiox) ... ok\n",
      "\n",
      "----------------------------------------------------------------------\n",
      "Ran 3 tests in 0.097s\n",
      "\n",
      "OK\n"
     ]
    }
   ],
   "source": [
    "#| hide\n",
    "#@markdown <font size='-1' color='#005F6A'>**UnitTest Selectable**</font><br>\n",
    "\n",
    "import unittest\n",
    "from IPython.display import clear_output\n",
    "only_register_test_Selectable = True # @param {type:\"boolean\"}\n",
    "register_and_run_test_Selectable = True # @param {type:\"boolean\"}\n",
    "\n",
    "if only_register_test_Selectable or register_and_run_test_Selectable:\n",
    "  class Test_Selectable (unittest.TestCase):\n",
    "\n",
    "    def selectedPositions (items): return [pos for pos, i in enumerate(items) if i.isSelected]\n",
    "\n",
    "    def setUp (self):\n",
    "      # class for test inherits from Selectable\n",
    "      class MySelectable (Selectable):\n",
    "        def setInitState (self):            self.setItemWidget (Label (value=\"initial state\"))\n",
    "        def onItemSelect (self, posList):   pass\n",
    "        def __init__(self, item, items, behave='radio'): super().__init__(item, items, behave, self.onItemSelect)\n",
    "\n",
    "\n",
    "    def test_Selectable_behave_radio (self):\n",
    "      # example for radio\n",
    "      lst = []\n",
    "      MySelectable(lst, 'radio'), MySelectable(lst, 'radio'), MySelectable(lst, 'radio')\n",
    "\n",
    "      # generation\n",
    "      self.assertEqual (len(lst), 3)\n",
    "      self.assertEqual ([i.itemWidget.value for i in lst], ['initial state', 'initial state', 'initial state'])\n",
    "\n",
    "      # simulate button clicks and test effects\n",
    "      lst[0].select(lst[0].widget) # click once\n",
    "      self.assertEqual ([0], Test_Selectable.selectedPositions (lst))\n",
    "      self.assertEqual ([lst[0].isSelected, lst[1].isSelected, lst[2].isSelected], [True,False,False])\n",
    "      self.assertEqual (lst[0].lastSelect(),0)\n",
    "      lst[0].select(lst[0].widget) # click two times\n",
    "      self.assertEqual ([0], Test_Selectable.selectedPositions (lst))\n",
    "      self.assertEqual ([lst[0].isSelected, lst[1].isSelected, lst[2].isSelected], [True,False,False])\n",
    "      self.assertEqual (lst[0].lastSelect(),0)\n",
    "      lst[1].select(lst[1].widget) # click once\n",
    "      self.assertEqual ([1], Test_Selectable.selectedPositions (lst))\n",
    "      self.assertEqual ([lst[0].isSelected, lst[1].isSelected, lst[2].isSelected], [False,True,False])\n",
    "      self.assertEqual (lst[1].lastSelect(),1)\n",
    "      lst[1].select(lst[1].widget) # click two times\n",
    "      self.assertEqual ([1], Test_Selectable.selectedPositions (lst))\n",
    "      self.assertEqual ([lst[0].isSelected, lst[1].isSelected, lst[2].isSelected], [False,True,False])\n",
    "      self.assertEqual (lst[1].lastSelect(),1)\n",
    "      lst[2].select(lst[2].widget) # click once\n",
    "      self.assertEqual ([2], Test_Selectable.selectedPositions (lst))\n",
    "      self.assertEqual ([lst[0].isSelected, lst[1].isSelected, lst[2].isSelected], [False,False,True])\n",
    "      self.assertEqual (lst[2].lastSelect(),2)\n",
    "      lst[2].select(lst[2].widget) # click two times\n",
    "      self.assertEqual ([2], Test_Selectable.selectedPositions (lst))\n",
    "      self.assertEqual ([lst[0].isSelected, lst[1].isSelected, lst[2].isSelected], [False,False,True])\n",
    "      self.assertEqual (lst[2].lastSelect(),2)\n",
    "\n",
    "    def test_Selectable_behave_multi (self):\n",
    "      # example for  multi\n",
    "      lst = []\n",
    "      MySelectable(lst, 'multi'), MySelectable(lst, 'multi'), MySelectable(lst, 'multi')\n",
    "\n",
    "      # simulate button clicks and test effects\n",
    "      lst[0].select(lst[0].widget)\n",
    "      self.assertEqual (lst[0].lastSelect(),0)\n",
    "      self.assertEqual ([0],Test_Selectable.selectedPositions(lst))\n",
    "      self.assertEqual ([lst[0].isSelected,lst[1].isSelected,lst[2].isSelected], [True,False,False])\n",
    "      lst[1].select(lst[1].widget)\n",
    "      self.assertEqual (lst[1].lastSelect(),1)\n",
    "      self.assertEqual ([0,1],Test_Selectable.selectedPositions(lst))\n",
    "      self.assertEqual ([lst[0].isSelected,lst[1].isSelected,lst[2].isSelected], [True,True,False])\n",
    "      lst[2].select(lst[2].widget)\n",
    "      self.assertEqual (lst[2].lastSelect(),2)\n",
    "      self.assertEqual ([0,1,2],Test_Selectable.selectedPositions(lst))\n",
    "      self.assertEqual ([lst[0].isSelected,lst[1].isSelected,lst[2].isSelected], [True,True,True])\n",
    "      lst[1].select(lst[1].widget)\n",
    "      self.assertEqual (lst[1].lastSelect(),1)\n",
    "      self.assertEqual ([0,2],Test_Selectable.selectedPositions(lst))\n",
    "      self.assertEqual ([lst[0].isSelected,lst[1].isSelected,lst[2].isSelected], [True,False,True])\n",
    "      lst[2].select(lst[2].widget)\n",
    "      self.assertEqual (lst[2].lastSelect(),2)\n",
    "      self.assertEqual ([0],Test_Selectable.selectedPositions(lst))\n",
    "      self.assertEqual ([lst[0].isSelected,lst[1].isSelected,lst[2].isSelected], [True,False,False])\n",
    "\n",
    "    def test_Selectable_behave_radiox (self):\n",
    "      # example for radiox\n",
    "      lst = []\n",
    "      MySelectable(lst, 'radiox'), MySelectable(lst, 'radiox'), MySelectable(lst, 'radiox')\n",
    "\n",
    "      # simulate button clicks and test effects\n",
    "      lst[0].select(lst[0].widget) # click once\n",
    "      self.assertEqual (lst[0].lastSelect(),0)\n",
    "      self.assertEqual ([0], Test_Selectable.selectedPositions (lst))\n",
    "      self.assertEqual ([lst[0].isSelected, lst[1].isSelected, lst[2].isSelected], [True,False,False])\n",
    "      lst[0].select(lst[0].widget) # click two times\n",
    "      self.assertEqual (lst[0].lastSelect(),0)\n",
    "      self.assertEqual ([], Test_Selectable.selectedPositions (lst))\n",
    "      self.assertEqual ([lst[0].isSelected, lst[1].isSelected, lst[2].isSelected], [False,False,False])\n",
    "      lst[1].select(lst[1].widget) # click once\n",
    "      self.assertEqual (lst[1].lastSelect(),1)\n",
    "      self.assertEqual ([1], Test_Selectable.selectedPositions (lst))\n",
    "      self.assertEqual ([lst[0].isSelected, lst[1].isSelected, lst[2].isSelected], [False,True,False])\n",
    "      lst[1].select(lst[1].widget) # click two times\n",
    "      self.assertEqual (lst[1].lastSelect(),1)\n",
    "      self.assertEqual ([], Test_Selectable.selectedPositions (lst))\n",
    "      self.assertEqual ([lst[0].isSelected, lst[1].isSelected, lst[2].isSelected], [False,False,False])\n",
    "      lst[2].select(lst[2].widget) # click once\n",
    "      self.assertEqual (lst[2].lastSelect(),2)\n",
    "      self.assertEqual ([2], Test_Selectable.selectedPositions (lst))\n",
    "      self.assertEqual ([lst[0].isSelected, lst[1].isSelected, lst[2].isSelected], [False,False,True])\n",
    "      lst[2].select(lst[2].widget) # click two times\n",
    "      self.assertEqual (lst[2].lastSelect(),2)\n",
    "      self.assertEqual ([], Test_Selectable.selectedPositions (lst))\n",
    "      self.assertEqual ([lst[0].isSelected, lst[1].isSelected, lst[2].isSelected], [False,False,False])\n",
    "\n",
    "\n",
    "if register_and_run_test_Selectable:\n",
    "  result = unittest.main(argv=[\"\"], verbosity=2, exit=False).result\n"
   ]
  },
  {
   "cell_type": "markdown",
   "metadata": {},
   "source": [
    "# Export"
   ]
  },
  {
   "cell_type": "code",
   "execution_count": null,
   "metadata": {},
   "outputs": [],
   "source": [
    "#| hide\n",
    "import nbdev; nbdev.nbdev_export()"
   ]
  }
 ],
 "metadata": {
  "kernelspec": {
   "display_name": "ds11",
   "language": "python",
   "name": "ds11"
  }
 },
 "nbformat": 4,
 "nbformat_minor": 4
}
