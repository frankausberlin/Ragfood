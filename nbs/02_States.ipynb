{
 "cells": [
  {
   "cell_type": "markdown",
   "metadata": {},
   "source": [
    "# States\n",
    "\n",
    "> Global state constants for Ragfood"
   ]
  },
  {
   "cell_type": "code",
   "execution_count": null,
   "metadata": {},
   "outputs": [],
   "source": [
    "#| default_exp states"
   ]
  },
  {
   "cell_type": "code",
   "execution_count": null,
   "metadata": {},
   "outputs": [],
   "source": [
    "#| hide\n",
    "from nbdev.showdoc import *"
   ]
  },
  {
   "cell_type": "code",
   "execution_count": null,
   "metadata": {},
   "outputs": [],
   "source": [
    "#| export\n",
    "\n",
    "# State constants for Ragfood operations\n",
    "# These constants define the various return codes and states that can occur\n",
    "# during Ragfood operations, particularly when interfacing with Calibre\n",
    "# and handling PDF files.\n",
    "\n",
    "# Success state\n",
    "RAGFOOD_OK = 0  # Operation completed successfully\n",
    "\n",
    "# Calibre-related error states\n",
    "RAGFOOD_ERROR_CALIBRENOTFOUND = 1      # Calibre software not found on system\n",
    "RAGFOOD_ERROR_LIBNOTFOUND = 2          # Calibre library not found or inaccessible\n",
    "RAGFOOD_ERROR_CALIBRE_ID_UNKNOWN = 4   # Invalid or unknown Calibre book ID\n",
    "\n",
    "# Metadata and file format error states\n",
    "RAGFOOD_OPF_NOT_AVAILABLE = 3          # OPF metadata file not available\n",
    "RAGFOOD_PDF_NOT_AVAILABLE = 6          # PDF file not available for the book\n",
    "RAGFOOD_PDF_ERROR_READING_METADATA = 7 # Error occurred while reading PDF metadata"
   ]
  },
  {
   "cell_type": "markdown",
   "metadata": {},
   "source": [
    "## State Constants Documentation\n",
    "\n",
    "These constants define the various states that can occur during Ragfood operations:\n",
    "\n",
    "### Success States\n",
    "- `RAGFOOD_OK` (0): Operation completed successfully\n",
    "\n",
    "### Calibre Integration Errors\n",
    "- `RAGFOOD_ERROR_CALIBRENOTFOUND` (1): Calibre software not found on the system\n",
    "- `RAGFOOD_ERROR_LIBNOTFOUND` (2): Calibre library not found or inaccessible\n",
    "- `RAGFOOD_ERROR_CALIBRE_ID_UNKNOWN` (4): Invalid or unknown Calibre book ID provided\n",
    "\n",
    "### File and Metadata Errors\n",
    "- `RAGFOOD_OPF_NOT_AVAILABLE` (3): OPF (Open Packaging Format) metadata file not available\n",
    "- `RAGFOOD_PDF_NOT_AVAILABLE` (6): PDF file not available for the requested book\n",
    "- `RAGFOOD_PDF_ERROR_READING_METADATA` (7): Error occurred while reading PDF metadata\n",
    "\n",
    "### Usage Example\n",
    "\n",
    "```python\n",
    "def process_book(book_id):\n",
    "    \"\"\"Process a book and return appropriate state code.\"\"\"\n",
    "    try:\n",
    "        # ... processing logic ...\n",
    "        return RAGFOOD_OK\n",
    "    except CalibreNotFoundError:\n",
    "        return RAGFOOD_ERROR_CALIBRENOTFOUND\n",
    "    except BookNotFoundError:\n",
    "        return RAGFOOD_ERROR_CALIBRE_ID_UNKNOWN\n",
    "    # ... other error handling ...\n",
    "```"
   ]
  }
 ],
 "metadata": {
  "kernelspec": {
   "display_name": "python3",
   "language": "python",
   "name": "python3"
  }
 },
 "nbformat": 4,
 "nbformat_minor": 4
}
