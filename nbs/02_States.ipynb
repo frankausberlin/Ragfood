{
 "cells": [
  {
   "cell_type": "markdown",
   "metadata": {},
   "source": [
    "# States\n",
    "\n",
    "> Global state constants for Ragfood"
   ]
  },
  {
   "cell_type": "code",
   "execution_count": null,
   "metadata": {},
   "outputs": [],
   "source": [
    "#| default_exp states"
   ]
  },
  {
   "cell_type": "code",
   "execution_count": null,
   "metadata": {},
   "outputs": [],
   "source": [
    "#| hide\n",
    "from nbdev.showdoc import *"
   ]
  },
  {
   "cell_type": "code",
   "execution_count": null,
   "metadata": {},
   "outputs": [],
   "source": [
    "#| export\n",
    "# States for Ragfood\n",
    "RAGFOOD_OK                         = 0\n",
    "RAGFOOD_ERROR_CALIBRENOTFOUND      = 1\n",
    "RAGFOOD_ERROR_LIBNOTFOUND          = 2\n",
    "RAGFOOD_OPF_NOT_AVAILABLE          = 3\n",
    "RAGFOOD_ERROR_CALIBRE_ID_UNKNOWN   = 4\n",
    "RAGFOOD_PDF_NOT_AVAILABLE          = 6\n",
    "RAGFOOD_PDF_ERROR_READING_METADATA = 7"
   ]
  },
  {
   "cell_type": "markdown",
   "metadata": {},
   "source": [
    "These constants define the various states that can occur during Ragfood operations:\n",
    "\n",
    "- `RAGFOOD_OK`: Operation completed successfully\n",
    "- `RAGFOOD_ERROR_CALIBRENOTFOUND`: Calibre software not found\n",
    "- `RAGFOOD_ERROR_LIBNOTFOUND`: Calibre library not found\n",
    "- `RAGFOOD_OPF_NOT_AVAILABLE`: OPF metadata file not available\n",
    "- `RAGFOOD_ERROR_CALIBRE_ID_UNKNOWN`: Invalid Calibre book ID\n",
    "- `RAGFOOD_PDF_NOT_AVAILABLE`: PDF file not available\n",
    "- `RAGFOOD_PDF_ERROR_READING_METADATA`: Error reading PDF metadata"
   ]
  }
 ],
 "metadata": {
  "kernelspec": {
   "display_name": "python3",
   "language": "python",
   "name": "python3"
  }
 },
 "nbformat": 4,
 "nbformat_minor": 4
}
